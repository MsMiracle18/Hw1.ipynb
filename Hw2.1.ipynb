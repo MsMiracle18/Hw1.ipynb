{
 "cells": [
  {
   "cell_type": "code",
   "execution_count": null,
   "id": "initial_id",
   "metadata": {
    "collapsed": true
   },
   "outputs": [],
   "source": [
    "import pandas as pd\n",
    "\n",
    "url = 'your_url_here'\n",
    "df_list = pd.read_html(url)\n",
    "df = df_list[0] \n",
    "#Зчитування даних: Використайте read_html для завантаження таблиці з веб-сторінки."
   ]
  },
  {
   "cell_type": "code",
   "execution_count": null,
   "outputs": [],
   "source": [
    "df.head()\n",
    "#Перші кроки: Виведіть перші рядки таблиці з методом head."
   ],
   "metadata": {
    "collapsed": false
   },
   "id": "7b1b8473b4afaa22"
  },
  {
   "cell_type": "code",
   "execution_count": null,
   "outputs": [],
   "source": [
    "df.shape\n",
    "#Розмір таблиці: Використовуйте атрибут shape для визначення кількості рядків та стовпців."
   ],
   "metadata": {
    "collapsed": false
   },
   "id": "4e528bb6a02c20d8"
  },
  {
   "cell_type": "code",
   "execution_count": null,
   "outputs": [],
   "source": [
    "df.replace('—', pd.NA, inplace=True)\n",
    "#Заміна значень: Замініть у таблиці значення \"—\" на значення NaN."
   ],
   "metadata": {
    "collapsed": false
   },
   "id": "7d6d8b8e5eb218ab"
  },
  {
   "cell_type": "code",
   "execution_count": null,
   "outputs": [],
   "source": [
    "df.dtypes\n",
    "# Типи стовпців"
   ],
   "metadata": {
    "collapsed": false
   },
   "id": "505833d9859105f6"
  },
  {
   "cell_type": "code",
   "execution_count": null,
   "outputs": [],
   "source": [
    "non_numeric_columns = ['column1', 'column2']  # Замість цього вкажіть імена стовпців з нечисловими даними\n",
    "df[non_numeric_columns] = df[non_numeric_columns].apply(pd.to_numeric, errors='coerce')\n",
    "# Зміна типів даних: Замініть типи нечислових колонок на числові."
   ],
   "metadata": {
    "collapsed": false
   },
   "id": "9e1b2ea32f9debbb"
  },
  {
   "cell_type": "code",
   "execution_count": null,
   "outputs": [],
   "source": [
    "df.isnull().sum() / len(df)\n",
    "# Пропущені значення: Визначте частку пропусків в кожній колонці за допомогою методів isnull та sum."
   ],
   "metadata": {
    "collapsed": false
   },
   "id": "a8a678b561f1a7e6"
  },
  {
   "cell_type": "code",
   "execution_count": null,
   "outputs": [],
   "source": [
    "df = df.iloc[:-1]\n",
    "# Видалення рядків: Видаліть дані по всій країні (останній рядок таблиці)."
   ],
   "metadata": {
    "collapsed": false
   },
   "id": "73065563ef13de25"
  },
  {
   "cell_type": "code",
   "execution_count": null,
   "outputs": [],
   "source": [
    "df.fillna(df.mean(), inplace=True)\n",
    "# Заповнення пропущених значень: Замініть відсутні дані в стовпцях середніми значеннями цих стовпців за допомогою методу fillna."
   ],
   "metadata": {
    "collapsed": false
   },
   "id": "dbeb3d6df1f790fa"
  },
  {
   "cell_type": "code",
   "execution_count": null,
   "outputs": [],
   "source": [
    "regions_higher_than_average_2019 = df[df['Year'] == 2019][df[df['Year'] == 2019]['Birth Rate'] > df['Birth Rate'].mean()]['Region']\n",
    "# Фільтрація даних: Отримайте список регіонів, де рівень народжуваності у 2019 році був вищим за середній по Україні."
   ],
   "metadata": {
    "collapsed": false
   },
   "id": "b686759ab8057507"
  },
  {
   "cell_type": "code",
   "execution_count": null,
   "outputs": [],
   "source": [
    "region_highest_birth_rate_2014 = df[df['Year'] == 2014]['Region'][df[df['Year'] == 2014]['Birth Rate'].idxmax()]\n",
    "# Найвища народжуваність: Знайдіть регіон з найвищою народжуваністю у 2014 році."
   ],
   "metadata": {
    "collapsed": false
   },
   "id": "25b265652b23df56"
  },
  {
   "cell_type": "code",
   "execution_count": null,
   "outputs": [],
   "source": [
    "import matplotlib.pyplot as plt\n",
    "\n",
    "df_2019 = df[df['Year'] == 2019]\n",
    "plt.bar(df_2019['Region'], df_2019['Birth Rate'])\n",
    "plt.xticks(rotation=90)\n",
    "plt.xlabel('Region')\n",
    "plt.ylabel('Birth Rate')\n",
    "plt.title('Birth Rate by Region in 2019')\n",
    "plt.show()\n",
    "# Графік: Побудуйте стовпчикову діаграму народжуваності по регіонах у 2019 році."
   ],
   "metadata": {
    "collapsed": false
   },
   "id": "3f2dd38cafa08900"
  }
 ],
 "metadata": {
  "kernelspec": {
   "display_name": "Python 3",
   "language": "python",
   "name": "python3"
  },
  "language_info": {
   "codemirror_mode": {
    "name": "ipython",
    "version": 2
   },
   "file_extension": ".py",
   "mimetype": "text/x-python",
   "name": "python",
   "nbconvert_exporter": "python",
   "pygments_lexer": "ipython2",
   "version": "2.7.6"
  }
 },
 "nbformat": 4,
 "nbformat_minor": 5
}
