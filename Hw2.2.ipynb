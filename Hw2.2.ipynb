{
 "cells": [
  {
   "cell_type": "code",
   "execution_count": null,
   "id": "initial_id",
   "metadata": {
    "collapsed": true
   },
   "outputs": [],
   "source": [
    "import pandas as pd\n",
    "\n",
    "df = pd.read_csv('2017_jun_final.csv')\n",
    "# Прочитайте файл 2017_jun_final.csv за допомогою методу read_csv"
   ]
  },
  {
   "cell_type": "code",
   "execution_count": null,
   "outputs": [],
   "source": [
    "df.head()\n",
    "# Прочитайте отриману таблицю, використовуючи метод head"
   ],
   "metadata": {
    "collapsed": false
   },
   "id": "79b162af4bf96672"
  },
  {
   "cell_type": "code",
   "execution_count": null,
   "outputs": [],
   "source": [
    "df.shape\n",
    "# Визначте розмір таблиці за допомогою методу shape"
   ],
   "metadata": {
    "collapsed": false
   },
   "id": "8936a07d66250649"
  },
  {
   "cell_type": "code",
   "execution_count": null,
   "outputs": [],
   "source": [
    "df.dtypes\n",
    "# Визначте типи всіх стовпців за допомогою dataframe.dtypes"
   ],
   "metadata": {
    "collapsed": false
   },
   "id": "5828e81a0ee93b96"
  },
  {
   "cell_type": "code",
   "execution_count": null,
   "outputs": [],
   "source": [
    "df.isnull().sum() / len(df)\n",
    "# Порахуйте, яка частка пропусків міститься в кожній колонці (використовуйте методи isnull та sum)"
   ],
   "metadata": {
    "collapsed": false
   },
   "id": "7dc9458455e02a05"
  },
  {
   "cell_type": "code",
   "execution_count": null,
   "outputs": [],
   "source": [
    "df.dropna(subset=df.columns[df.columns != 'Мова програмування'], inplace=True)\n",
    "# Видаліть усі стовпці з пропусками, крім стовпця \"Мова програмування\""
   ],
   "metadata": {
    "collapsed": false
   },
   "id": "3c7a03dfb908dadc"
  },
  {
   "cell_type": "code",
   "execution_count": null,
   "outputs": [],
   "source": [
    "df.isnull().sum() / len(df)\n",
    "# Знову порахуйте, яка частка пропусків міститься в кожній колонці і переконайтеся, що залишився тільки стовпець \"Мова.програмування\""
   ],
   "metadata": {
    "collapsed": false
   },
   "id": "d31a824d6efdf86c"
  },
  {
   "cell_type": "code",
   "execution_count": null,
   "outputs": [],
   "source": [
    "df.dropna(inplace=True)\n",
    "# Видаліть усі рядки у вихідній таблиці за допомогою методу dropna"
   ],
   "metadata": {
    "collapsed": false
   },
   "id": "52fe99f8183e5d70"
  },
  {
   "cell_type": "code",
   "execution_count": null,
   "outputs": [],
   "source": [
    "df.shape\n",
    "# Визначте розмір таблиці за допомогою методу shape"
   ],
   "metadata": {
    "collapsed": false
   },
   "id": "fb88167b75d57a65"
  },
  {
   "cell_type": "code",
   "execution_count": null,
   "outputs": [],
   "source": [
    "python_data = df[df['Мова програмування'] == 'Python']\n",
    "# Створіть нову таблицю python_data, в якій будуть тільки рядки зі спеціалістами, які вказали мову програмування Python"
   ],
   "metadata": {
    "collapsed": false
   },
   "id": "20e69af40e7ade4c"
  },
  {
   "cell_type": "code",
   "execution_count": null,
   "outputs": [],
   "source": [
    "python_data.shape\n",
    "# Визначте новий розмір таблиці за допомогою методу shape"
   ],
   "metadata": {
    "collapsed": false
   },
   "id": "31d45c2202347202"
  },
  {
   "cell_type": "code",
   "execution_count": null,
   "outputs": [],
   "source": [
    "grouped_data = df.groupby('Посада')\n",
    "# Використовуючи метод groupby, виконайте групування за стовпчиком \"Посада\""
   ],
   "metadata": {
    "collapsed": false
   },
   "id": "8f2407b640ecf8d0"
  },
  {
   "cell_type": "code",
   "execution_count": null,
   "outputs": [],
   "source": [
    "aggregated_data = grouped_data.agg({'Зарплата.в.місяць': ['min', 'max']})\n",
    "# Створіть новий DataFrame, де для згрупованих даних за стовпчиком \"Посада\", виконайте агрегацію даних за допомогою методу agg і знайдіть мінімальне та максимальне значення у стовпчику \"Зарплата.в.місяць\""
   ],
   "metadata": {
    "collapsed": false
   },
   "id": "5f41c7fd1cccb963"
  },
  {
   "cell_type": "code",
   "execution_count": null,
   "outputs": [],
   "source": [
    "def fill_avg_salary(row):\n",
    "    return row['Зарплата.в.місяць'].mean()\n",
    "\n",
    "df['avg'] = df.apply(fill_avg_salary, axis=1)\n",
    "# Створіть функцію fill_avg_salary, яка повертатиме середнє значення заробітної плати на місяць. Використовуйте її для методу apply та створіть новий стовпчик \"avg\""
   ],
   "metadata": {
    "collapsed": false
   },
   "id": "cd49b79d93b2fcd0"
  },
  {
   "cell_type": "code",
   "execution_count": null,
   "outputs": [],
   "source": [
    "df['avg'].describe()\n",
    "# Створіть описову статистику за допомогою методу describe для нового стовпчика."
   ],
   "metadata": {
    "collapsed": false
   },
   "id": "c36838607da9e1c0"
  },
  {
   "cell_type": "code",
   "execution_count": null,
   "outputs": [],
   "source": [
    "df.to_csv('new_data.csv', index=False)\n",
    "# Збережіть отриману таблицю в CSV файл"
   ],
   "metadata": {
    "collapsed": false
   },
   "id": "4bd1bbeb8e05eb75"
  }
 ],
 "metadata": {
  "kernelspec": {
   "display_name": "Python 3",
   "language": "python",
   "name": "python3"
  },
  "language_info": {
   "codemirror_mode": {
    "name": "ipython",
    "version": 2
   },
   "file_extension": ".py",
   "mimetype": "text/x-python",
   "name": "python",
   "nbconvert_exporter": "python",
   "pygments_lexer": "ipython2",
   "version": "2.7.6"
  }
 },
 "nbformat": 4,
 "nbformat_minor": 5
}
