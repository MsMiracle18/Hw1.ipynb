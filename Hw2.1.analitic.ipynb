import matplotlib.pyplot as plt
import seaborn as sns

# Побудова графіка гістограми цін
plt.figure(figsize=(8, 6))

# Використання стовпця "Ціна" у вашому DataFrame
sns.histplot(data=books, x='Ціна', bins=10)

plt.title('Розподіл цін на книги')
plt.xlabel('Ціна')
plt.ylabel('Кількість книг')
plt.show()
