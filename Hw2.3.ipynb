{
 "cells": [
  {
   "cell_type": "code",
   "execution_count": null,
   "id": "initial_id",
   "metadata": {
    "collapsed": true
   },
   "outputs": [],
   "source": [
    "import pandas as pd\n",
    "\n",
    "df = pd.read_csv('назва_файлу.csv')\n"
   ]
  },
  {
   "cell_type": "code",
   "execution_count": null,
   "outputs": [],
   "source": [
    "df.head()\n"
   ],
   "metadata": {
    "collapsed": false
   },
   "id": "f3ec21008ce4017d"
  },
  {
   "cell_type": "code",
   "execution_count": null,
   "outputs": [],
   "source": [
    "df.shape\n"
   ],
   "metadata": {
    "collapsed": false
   },
   "id": "ce4dc74e98963a26"
  },
  {
   "cell_type": "code",
   "execution_count": null,
   "outputs": [],
   "source": [
    "df.isna().sum()\n"
   ],
   "metadata": {
    "collapsed": false
   },
   "id": "db90d7efaaa8634"
  },
  {
   "cell_type": "code",
   "execution_count": null,
   "outputs": [],
   "source": [
    "df['genre'].unique()\n",
    "# Унікальні значення стовпців \n",
    "# Відповідь: Які є унікальні жанри?"
   ],
   "metadata": {
    "collapsed": false
   },
   "id": "ad95aac09e98cb17"
  },
  {
   "cell_type": "code",
   "execution_count": null,
   "outputs": [],
   "source": [
    "df['price'].plot(kind='hist')\n",
    "# Розподіл цін"
   ],
   "metadata": {
    "collapsed": false
   },
   "id": "e9cdf3616057b18f"
  },
  {
   "cell_type": "code",
   "execution_count": null,
   "outputs": [],
   "source": [
    "max_price = df['price'].max()\n",
    "min_price = df['price'].min()\n",
    "mean_price = df['price'].mean()\n",
    "median_price = df['price'].median()\n",
    "# Відповідь: Максимальна ціна?\n",
    "# Відповідь: Мінімальна ціна?\n",
    "# Відповідь: Середня ціна?\n",
    "# Відповідь: Медіанна ціна?"
   ],
   "metadata": {
    "collapsed": false
   },
   "id": "208fe120fab8c953"
  },
  {
   "cell_type": "code",
   "execution_count": null,
   "outputs": [],
   "source": [
    "max_rating = df['user_rating'].max()\n",
    "# Відповідь: Який рейтинг у датасеті найвищий? Відповідь:"
   ],
   "metadata": {
    "collapsed": false
   },
   "id": "5839d5db1f5fdce7"
  },
  {
   "cell_type": "code",
   "execution_count": null,
   "outputs": [],
   "source": [
    "books_with_max_rating = df[df['user_rating'] == max_rating]['name'].count()\n",
    "# Відповідь: Скільки книг мають такий рейтинг?"
   ],
   "metadata": {
    "collapsed": false
   },
   "id": "d2c4009d4cd88608"
  },
  {
   "cell_type": "code",
   "execution_count": null,
   "outputs": [],
   "source": [
    "book_with_max_reviews = df[df['reviews'] == df['reviews'].max()]['name'].values[0]\n",
    "# Відповідь: Яка книга має найбільше відгуків? Відповідь:"
   ],
   "metadata": {
    "collapsed": false
   },
   "id": "29484dc197a50b90"
  },
  {
   "cell_type": "code",
   "execution_count": null,
   "outputs": [],
   "source": [
    "books_2015 = df[df['year'] == 2015]"
   ],
   "metadata": {
    "collapsed": false
   },
   "id": "dc6384d3e45e62bd"
  },
  {
   "cell_type": "code",
   "execution_count": null,
   "outputs": [],
   "source": [
    "most_expensive_2015 = books_2015[books_2015['price'] == books_2015['price'].max()]['name'].values[0]\n",
    "# Відповідь: З тих книг, що потрапили до Топ-50 у 2015 році, яка книга найдорожча (можна використати проміжний датафрейм)? Відповідь:"
   ],
   "metadata": {
    "collapsed": false
   },
   "id": "e3a2f4c5f9f1f8de"
  },
  {
   "cell_type": "code",
   "execution_count": null,
   "outputs": [],
   "source": [
    "fiction_2010_count = df[(df['year'] == 2010) & (df['genre'] == 'Fiction')].shape[0]\n",
    "# Відповідь: Скільки книг жанру Fiction потрапили до Топ-50 у 2010 році (використовуйте &)? Відповідь:"
   ],
   "metadata": {
    "collapsed": false
   },
   "id": "36abde0e848e201"
  },
  {
   "cell_type": "code",
   "execution_count": null,
   "outputs": [],
   "source": [
    "high_rated_books_count = df[(df['user_rating'] == 4.9) & ((df['year'] == 2010) | (df['year'] == 2011))].shape[0]\n",
    "# Відповідь: Скільки книг з рейтингом 4.9 потрапило до рейтингу у 2010 та 2011 роках (використовуйте | або функцію isin)? Відповідь:"
   ],
   "metadata": {
    "collapsed": false
   },
   "id": "d1c9879148e562ad"
  },
  {
   "cell_type": "code",
   "execution_count": null,
   "outputs": [],
   "source": [
    "books_2015_cheap = books_2015[books_2015['price'] < 8]"
   ],
   "metadata": {
    "collapsed": false
   },
   "id": "5f137a7f27917f73"
  },
  {
   "cell_type": "code",
   "execution_count": null,
   "outputs": [],
   "source": [
    "sorted_cheap_books_2015 = books_2015_cheap.sort_values(by='price')\n",
    "# І насамкінець, давайте відсортуємо за зростанням ціни всі книги, які потрапили до рейтингу в 2015 році і коштують дешевше за 8 доларів (використовуйте функцію sort_values). Відповідь: Яка книга остання у відсортованому списку? Відповідь:"
   ],
   "metadata": {
    "collapsed": false
   },
   "id": "9af9ddd01f498ecb"
  },
  {
   "cell_type": "code",
   "execution_count": null,
   "outputs": [],
   "source": [
    "genre_prices = df.groupby('genre')['price'].agg(['max', 'min'])\n",
    "# Відповіді:Максимальна ціна для жанру Fiction\n",
    "# Мінімальна ціна для жанру Fiction\n",
    "# Максимальна ціна для жанру Non Fiction\n",
    "# Мінімальна ціна для жанру Non Fiction"
   ],
   "metadata": {
    "collapsed": false
   },
   "id": "3de36f31dce2b955"
  },
  {
   "cell_type": "code",
   "execution_count": null,
   "outputs": [],
   "source": [
    "books_per_author = df.groupby('author')['name'].agg('count')\n",
    "# Відповідь: Якої розмірності вийшла таблиця? Відповідь:\n",
    "# Відповідь: Який автор має найбільше книг? Відповідь:\n",
    "# Відповідь: Скільки книг цього автора? Відповідь:"
   ],
   "metadata": {
    "collapsed": false
   },
   "id": "f2a8189a3fa3662a"
  },
  {
   "cell_type": "code",
   "execution_count": null,
   "outputs": [],
   "source": [
    "avg_rating_per_author = df.groupby('author')['user_rating'].agg('mean')\n",
    "# Тепер створіть другий датафрейм, який буде вміщати середній рейтинг для кожного автора (використовуйте функції groupby та agg, для підрахунку середнього значення використовуйте mean). Не беріть усі стовпці, виберете тільки потрібні"
   ],
   "metadata": {
    "collapsed": false
   },
   "id": "76c2a1542112251a"
  },
  {
   "cell_type": "code",
   "execution_count": null,
   "outputs": [],
   "source": [
    "avg_rating_per_author = df.groupby('author')['user_rating'].agg('mean')\n",
    "# Відповідь: У якого автора середній рейтинг мінімальний? Відповідь:\n",
    "# Відповідь: Який у цього автора середній рейтинг? Відповідь:"
   ],
   "metadata": {
    "collapsed": false
   },
   "id": "2e9a2bb0bb9d0e0a"
  },
  {
   "cell_type": "code",
   "execution_count": null,
   "outputs": [],
   "source": [
    "combined_df = pd.concat([books_per_author, avg_rating_per_author], axis=1)\n",
    "# Зєднання двох датафреймів"
   ],
   "metadata": {
    "collapsed": false
   },
   "id": "97a1926e447c4960"
  },
  {
   "cell_type": "code",
   "execution_count": 1,
   "outputs": [
    {
     "ename": "NameError",
     "evalue": "name 'combined_df' is not defined",
     "output_type": "error",
     "traceback": [
      "\u001B[1;31m---------------------------------------------------------------------------\u001B[0m",
      "\u001B[1;31mNameError\u001B[0m                                 Traceback (most recent call last)",
      "Cell \u001B[1;32mIn[1], line 1\u001B[0m\n\u001B[1;32m----> 1\u001B[0m sorted_combined_df \u001B[38;5;241m=\u001B[39m \u001B[43mcombined_df\u001B[49m\u001B[38;5;241m.\u001B[39msort_values(by\u001B[38;5;241m=\u001B[39m[\u001B[38;5;124m'\u001B[39m\u001B[38;5;124mname\u001B[39m\u001B[38;5;124m'\u001B[39m, \u001B[38;5;124m'\u001B[39m\u001B[38;5;124muser_rating\u001B[39m\u001B[38;5;124m'\u001B[39m])\n\u001B[0;32m      2\u001B[0m \u001B[38;5;66;03m# Відсортуйте датафрейм за зростаючою кількістю книг та зростаючим рейтингом (використовуйте функцію sort_values)\u001B[39;00m\n\u001B[0;32m      3\u001B[0m \u001B[38;5;66;03m# Відповідь: Який автор перший у списку?\u001B[39;00m\n",
      "\u001B[1;31mNameError\u001B[0m: name 'combined_df' is not defined"
     ]
    }
   ],
   "source": [
    "sorted_combined_df = combined_df.sort_values(by=['name', 'user_rating'])\n",
    "# Відсортуйте датафрейм за зростаючою кількістю книг та зростаючим рейтингом (використовуйте функцію sort_values)\n",
    "# Відповідь: Який автор перший у списку?"
   ],
   "metadata": {
    "collapsed": false,
    "ExecuteTime": {
     "end_time": "2023-12-07T22:25:09.341631300Z",
     "start_time": "2023-12-07T22:25:08.696362600Z"
    }
   },
   "id": "3ef5f692639a750b"
  }
 ],
 "metadata": {
  "kernelspec": {
   "display_name": "Python 3",
   "language": "python",
   "name": "python3"
  },
  "language_info": {
   "codemirror_mode": {
    "name": "ipython",
    "version": 2
   },
   "file_extension": ".py",
   "mimetype": "text/x-python",
   "name": "python",
   "nbconvert_exporter": "python",
   "pygments_lexer": "ipython2",
   "version": "2.7.6"
  }
 },
 "nbformat": 4,
 "nbformat_minor": 5
}
