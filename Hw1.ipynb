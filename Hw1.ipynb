{
 "cells": [
  {
   "cell_type": "code",
   "execution_count": null,
   "id": "initial_id",
   "metadata": {
    "collapsed": true
   },
   "outputs": [],
   "source": [
    "import sys\n",
    "# 1 Створіть одновимірний масив (вектор) з першими 10-ма натуральними числами та виведіть його значення.\n",
    "\n",
    "vector = list(range(1,11))\n",
    "\n",
    "print(vector)"
   ]
  },
  {
   "cell_type": "code",
   "execution_count": null,
   "outputs": [],
   "source": [
    "import numpy as np\n",
    "# 2 Створіть двовимірний масив (матрицю) розміром 3x3, заповніть його нулями та виведіть його значення.\n",
    "\n",
    "matrix_zeros = np.zeros((3, 3))\n",
    "\n",
    "print(matrix_zeros)"
   ],
   "metadata": {
    "collapsed": false
   },
   "id": "2949a171137028b1"
  },
  {
   "cell_type": "code",
   "execution_count": null,
   "outputs": [],
   "source": [
    "# 3 Створіть масив розміром 5x5, заповніть його випадковими цілими числами в діапазоні від 1 до 10 та виведіть його значення.\n",
    "matrix_random_integers = np.random.randint(1, 11, size=(5, 5))\n",
    "\n",
    "print(matrix_random_integers)"
   ],
   "metadata": {
    "collapsed": false
   },
   "id": "2b3be7ae8cabe7f1"
  },
  {
   "cell_type": "code",
   "execution_count": null,
   "outputs": [],
   "source": [
    "# 4 Створіть масив розміром 4x4, заповніть його випадковими дійсними числами в діапазоні від 0 до 1 та виведіть його значення.\n",
    "matrix_random_floats = np.random.rand (4,4)\n",
    "\n",
    "print(matrix_random_floats)"
   ],
   "metadata": {
    "collapsed": false
   },
   "id": "6b9afcd389472b27"
  },
  {
   "cell_type": "code",
   "execution_count": null,
   "outputs": [],
   "source": [
    "import numpy as np\n",
    "# 5 Створіть два одновимірних масиви розміром 5, заповніть їх випадковими цілими числами в діапазоні від 1 до 10 та виконайте на них поелементні операції додавання, віднімання та множення.\n",
    "\n",
    "array1 = np.random.randint(1, 11, size=5)\n",
    "array2 = np.random.randint(1, 11, size=5)\n",
    "\n",
    "print(\"Перший масив:\", array1)\n",
    "print(\"Другий масив:\", array2)\n",
    "\n",
    "addition = np.add(array1, array2)\n",
    "print(\"Додавання елементів:\", addition)\n",
    "\n",
    "subtraction = np.subtract(array1, array2)\n",
    "print(\"Віднімання елементів:\", subtraction)\n",
    "\n",
    "multiplication = np.multiply(array1, array2)\n",
    "print(\"Множення елементів:\", multiplication)"
   ],
   "metadata": {
    "collapsed": false
   },
   "id": "811fbe0091cbeafa"
  },
  {
   "cell_type": "code",
   "execution_count": null,
   "outputs": [],
   "source": [
    "import numpy as np\n",
    "# 6 Створіть два вектори розміром 7, заповніть довільними числами та знайдіть їх скалярний добуток.\n",
    "\n",
    "vector1 = np.random.random(7)\n",
    "vector2 = np.random.random(7)\n",
    "\n",
    "print(\"Перший вектор:\", vector1)\n",
    "print(\"Другий вектор:\", vector2)\n",
    "\n",
    "scalar_product = np.dot(vector1, vector2)\n",
    "print(\"Скалярний добуток:\", scalar_product)"
   ],
   "metadata": {
    "collapsed": false
   },
   "id": "1e15c40657e270f7"
  },
  {
   "cell_type": "code",
   "execution_count": null,
   "outputs": [],
   "source": [
    "import numpy as np\n",
    "# 7 Створіть дві матриці розміром 2x2 та 2x3, заповніть їх випадковими цілими числами в діапазоні від 1 до 10 та перемножте їх між собою.\n",
    "\n",
    "matrix1 = np.random.randint(1,11, size=(2,2))\n",
    "\n",
    "matrix2 = np.random.randint(1,11, size=(2,3))\n",
    "\n",
    "print(\"Перша матриця: \")\n",
    "print(matrix1)\n",
    "\n",
    "print(\"/nДруга матриця: \")\n",
    "print(matrix2)\n",
    "\n",
    "result = np.dot(matrix1, matrix2)\n",
    "\n",
    "print(\"/nРезультат перемноження матриць: \")"
   ],
   "metadata": {
    "collapsed": false
   },
   "id": "420ea442631a8404"
  },
  {
   "cell_type": "code",
   "execution_count": null,
   "outputs": [],
   "source": [
    "import numpy as np\n",
    "# 8 Створіть матрицю розміром 3x3, заповніть її випадковими цілими числами в діапазоні від 1 до 10 та знайдіть її обернену матрицю.\n",
    "\n",
    "matrix = np.random.randint(1, 11, size=(3, 3))\n",
    "\n",
    "print(\"Початкова матриця:\")\n",
    "print(matrix)\n",
    "\n",
    "try:\n",
    "    inverse_matrix = np.linalg.inv(matrix)\n",
    "    print(\"\\nОбернена матриця:\")\n",
    "    print(inverse_matrix)\n",
    "except np.linalg.LinAlgError as e:\n",
    "    print(\"\\nНеможливо знайти обернену матрицю, оскільки матриця є виродженою.\")\n",
    "    print(f\"Повідомлення про помилку: {e}\")"
   ],
   "metadata": {
    "collapsed": false
   },
   "id": "a88cd5cf0d13d6ff"
  },
  {
   "cell_type": "code",
   "execution_count": null,
   "outputs": [],
   "source": [
    "import numpy as np\n",
    "# 9 Створіть матрицю розміром 4x4, заповніть її випадковими дійсними числами в діапазоні від 0 до 1 та транспонуйте її.\n",
    "\n",
    "matrix = np.random.rand(4, 4)\n",
    "\n",
    "print(\"Початкова матриця:\")\n",
    "print(matrix)\n",
    "\n",
    "transposed_matrix = np.transpose(matrix)\n",
    "\n",
    "print(\"\\nТранспонована матриця:\")\n",
    "print(transposed_matrix)"
   ],
   "metadata": {
    "collapsed": false
   },
   "id": "45b39757255583e6"
  },
  {
   "cell_type": "code",
   "execution_count": null,
   "outputs": [],
   "source": [
    "import numpy as np\n",
    "# 10 Створіть матрицю розміром 3x4 та вектор розміром 4, заповніть їх випадковими цілими числами в діапазоні від 1 до 10 та перемножте матрицю на вектор.\n",
    "\n",
    "matrix = np.random.randint(1, 11, size=(3, 4))\n",
    "vector = np.random.randint(1, 11, size=4)\n",
    "\n",
    "print(\"Матриця:\")\n",
    "print(matrix)\n",
    "print(\"\\nВектор:\")\n",
    "print(vector)\n",
    "\n",
    "result = np.dot(matrix, vector)\n",
    "\n",
    "print(\"\\nРезультат множення матриці на вектор:\")\n",
    "print(result)"
   ],
   "metadata": {
    "collapsed": false
   },
   "id": "18bd0ec2670fb4ab"
  },
  {
   "cell_type": "code",
   "execution_count": null,
   "outputs": [],
   "source": [
    "import numpy as np\n",
    "# 11 Створіть матрицю розміром 2x3 та вектор розміром 3, заповніть їх випадковими дійсними числами в діапазоні від 0 до 1 та перемножте матрицю на вектор.\n",
    "\n",
    "matrix = np.random.rand(2, 3)\n",
    "vector = np.random.rand(3)\n",
    "\n",
    "print(\"Матриця:\")\n",
    "print(matrix)\n",
    "print(\"\\nВектор:\")\n",
    "print(vector)\n",
    "\n",
    "result = np.dot(matrix, vector)\n",
    "\n",
    "print(\"\\nРезультат множення матриці на вектор:\")\n",
    "print(result)"
   ],
   "metadata": {
    "collapsed": false
   },
   "id": "391df74a8ebb2b68"
  },
  {
   "cell_type": "code",
   "execution_count": null,
   "outputs": [],
   "source": [
    "import numpy as np\n",
    "# 12 Створіть дві матриці розміром 2x2, заповніть їх випадковими цілими числами в діапазоні від 1 до 10 та виконайте їхнє поелементне множення.\n",
    "\n",
    "matrix1 = np.random.randint(1, 11, size=(2, 2))\n",
    "matrix2 = np.random.randint(1, 11, size=(2, 2))\n",
    "\n",
    "print(\"Перша матриця:\")\n",
    "print(matrix1)\n",
    "print(\"\\nДруга матриця:\")\n",
    "print(matrix2)\n",
    "\n",
    "result = np.multiply(matrix1, matrix2)\n",
    "\n",
    "print(\"\\nРезультат поелементного множення матриць:\")\n",
    "print(result)"
   ],
   "metadata": {
    "collapsed": false
   },
   "id": "61b6e780b795cb37"
  },
  {
   "cell_type": "code",
   "execution_count": null,
   "outputs": [],
   "source": [
    "import numpy as np\n",
    "# 13 Створіть дві матриці розміром 2x2, заповніть їх випадковими цілими числами в діапазоні від 1 до 10 та знайдіть їх добуток.\n",
    "\n",
    "matrix1 = np.random.randint(1, 11, size=(2, 2))\n",
    "matrix2 = np.random.randint(1, 11, size=(2, 2))\n",
    "\n",
    "print(\"Перша матриця:\")\n",
    "print(matrix1)\n",
    "print(\"\\nДруга матриця:\")\n",
    "print(matrix2)\n",
    "\n",
    "result = np.dot(matrix1, matrix2)\n",
    "\n",
    "print(\"\\nРезультат множення матриць:\")\n",
    "print(result)"
   ],
   "metadata": {
    "collapsed": false
   },
   "id": "5cd87e3c83714ce2"
  },
  {
   "cell_type": "code",
   "execution_count": null,
   "outputs": [],
   "source": [
    "import numpy as np\n",
    "# 14 Створіть матрицю розміром 5x5, заповніть її випадковими цілими числами в діапазоні від 1 до 100 та знайдіть суму елементів матриці.\n",
    "\n",
    "matrix = np.random.randint(1, 101, size=(5, 5))\n",
    "\n",
    "print(\"Матриця:\")\n",
    "print(matrix)\n",
    "\n",
    "sum_of_elements = np.sum(matrix)\n",
    "\n",
    "print(\"\\nСума елементів матриці:\", sum_of_elements)"
   ],
   "metadata": {
    "collapsed": false
   },
   "id": "9dd143d9dab63492"
  },
  {
   "cell_type": "code",
   "execution_count": null,
   "outputs": [],
   "source": [
    "import numpy as np\n",
    "\n",
    "# 15 Створіть дві матриці розміром 4x4, заповніть їх випадковими цілими числами в діапазоні від 1 до 10 та знайдіть їхню різницю.\n",
    "matrix1 = np.random.randint(1, 11, size=(4, 4))\n",
    "matrix2 = np.random.randint(1, 11, size=(4, 4))\n",
    "\n",
    "print(\"Перша матриця:\")\n",
    "print(matrix1)\n",
    "print(\"\\nДруга матриця:\")\n",
    "print(matrix2)\n",
    "\n",
    "difference = matrix1 - matrix2\n",
    "\n",
    "print(\"\\nРізниця матриць:\")\n",
    "print(difference)"
   ],
   "metadata": {
    "collapsed": false
   },
   "id": "6d6c7f433d981947"
  },
  {
   "cell_type": "code",
   "execution_count": null,
   "outputs": [],
   "source": [
    "import numpy as np\n",
    "\n",
    "# 16 Створіть матрицю розміром 3x3, заповніть її випадковими дійсними числами в діапазоні від 0 до 1 та знайдіть вектор-стовпчик, що містить суму елементів кожного рядка матриці.\n",
    "\n",
    "matrix = np.random.rand(3, 3)\n",
    "\n",
    "print(\"Матриця:\")\n",
    "print(matrix)\n",
    "\n",
    "row_sums = np.sum(matrix, axis=1, keepdims=True)\n",
    "\n",
    "print(\"\\nВектор-стовпчик із сумою елементів кожного рядка матриці:\")\n",
    "print(row_sums)"
   ],
   "metadata": {
    "collapsed": false
   },
   "id": "de7544214ae251b2"
  },
  {
   "cell_type": "code",
   "execution_count": null,
   "outputs": [],
   "source": [
    "import numpy as np\n",
    "# 17 Створіть матрицю розміром 3x4 з довільними цілими числами і створінь матрицю з квадратами цих чисел.\n",
    "\n",
    "matrix = np.random.randint(1, 11, size=(3, 4))\n",
    "\n",
    "print(\"Початкова матриця:\")\n",
    "print(matrix)\n",
    "\n",
    "squared_matrix = np.square(matrix)\n",
    "\n",
    "print(\"\\nМатриця з квадратами чисел початкової матриці:\")\n",
    "print(squared_matrix)"
   ],
   "metadata": {
    "collapsed": false
   },
   "id": "f0a57b5c38b8edd7"
  },
  {
   "cell_type": "code",
   "execution_count": null,
   "outputs": [],
   "source": [
    "import numpy as np\n",
    "# 18 Створіть вектор розміром 4, заповніть його випадковими цілими числами в діапазоні від 1 до 50 та знайдіть вектор з квадратними коренями цих чисел.\n",
    "\n",
    "vector = np.random.randint(1, 51, size=4)\n",
    "\n",
    "print(\"Початковий вектор:\")\n",
    "print(vector)\n",
    "\n",
    "sqrt_vector = np.sqrt(vector)\n",
    "\n",
    "print(\"\\nВектор з квадратними коренями чисел початкового вектора:\")\n",
    "print(sqrt_vector)"
   ],
   "metadata": {
    "collapsed": false
   },
   "id": "2a8c640b090b0d3d"
  }
 ],
 "metadata": {
  "kernelspec": {
   "display_name": "Python 3",
   "language": "python",
   "name": "python3"
  },
  "language_info": {
   "codemirror_mode": {
    "name": "ipython",
    "version": 2
   },
   "file_extension": ".py",
   "mimetype": "text/x-python",
   "name": "python",
   "nbconvert_exporter": "python",
   "pygments_lexer": "ipython2",
   "version": "2.7.6"
  }
 },
 "nbformat": 4,
 "nbformat_minor": 5
}
